{
 "cells": [
  {
   "cell_type": "markdown",
   "metadata": {},
   "source": [
    "# RosBot Part Test"
   ]
  },
  {
   "cell_type": "markdown",
   "metadata": {},
   "source": [
    "## Import rosbot"
   ]
  },
  {
   "cell_type": "code",
   "execution_count": null,
   "metadata": {},
   "outputs": [],
   "source": [
    "# may need to install pyserial\n",
    "#!pip install -U pyserial"
   ]
  },
  {
   "cell_type": "code",
   "execution_count": 1,
   "metadata": {
    "scrolled": false
   },
   "outputs": [
    {
     "name": "stdout",
     "output_type": "stream",
     "text": [
      "using donkey v3.1.0 ...\n",
      "port open\n",
      "None\n",
      "Ready...\n"
     ]
    }
   ],
   "source": [
    "import donkeycar as dk\n",
    "from rosbot import RosBot\n",
    "\n",
    "rb = RosBot(dev=\"/dev/ttyUSB0\")\n",
    "rb.get_sw_version()"
   ]
  },
  {
   "cell_type": "markdown",
   "metadata": {},
   "source": [
    "## RosBot API Commands"
   ]
  },
  {
   "cell_type": "markdown",
   "metadata": {},
   "source": [
    "- ping() - Ping the RosBot Board\n",
    "      Ping the RosBot board\n",
    "<BR>\n",
    "- get_version() - Get software version\n",
    "      Get the version of the RosBot software.\n",
    "<BR>\n",
    "- get_status() - Get RosBot status\n",
    "      Get the connection statust o the RosBot board.\n",
    "<BR>\n",
    "- start_motor(index, pwm) - Run Motor\n",
    "      Run Motor at index with motor speet of PWM: run_motor(M1, 128)\n",
    "<BR>\n",
    "- stop_motor(index) - Stop Motor\n",
    "      Stop Motor at index: stop_motor(1)\n",
    "<BR>\n",
    "- set_pin_mode(pin, mode) - Set Pin Mode \n",
    "      Pin number to set, mode to set input or output: set_pin_mode(1, 'input')\n",
    "<BR>\n",
    "- read_digital_pin(pin) - Digital read \n",
    "      Pin number to read ouput high or low: get_digital_read(16)\n",
    "<BR>\n",
    "- write_digital_pin(pin, level) - Digital write \n",
    "      Pin number to set mode high or low: set_digital_write(16, 'high')\n",
    "<BR>\n",
    "- read_analog_pin(pin) - Analog read \n",
    "      Pin number to read: get_analog_read(16)\n",
    "<BR>\n",
    "- write_analog_pin(pin, level) - Analog write \n",
    "      Pin number to set value 0 to 256: set_analog_write(16, 128)\n",
    "<BR>\n",
    "- set_servo(index, degree, speed, wait) - Set servo \n",
    "      index of servo to move to degree at speed 1 to 255: set_servo(0, 90, 0)\n"
   ]
  },
  {
   "cell_type": "markdown",
   "metadata": {},
   "source": [
    "_____"
   ]
  },
  {
   "cell_type": "markdown",
   "metadata": {},
   "source": [
    "### ping() - Ping the RosBot Board\n",
    "      Ping the RosBot board"
   ]
  },
  {
   "cell_type": "code",
   "execution_count": null,
   "metadata": {},
   "outputs": [],
   "source": [
    "rb.ping()"
   ]
  },
  {
   "cell_type": "markdown",
   "metadata": {},
   "source": [
    "### get_status(index, pwm) - Run Motor\n",
    "      Get the connection status to the RosBot board."
   ]
  },
  {
   "cell_type": "code",
   "execution_count": null,
   "metadata": {
    "scrolled": true
   },
   "outputs": [],
   "source": [
    "rb.get_status()"
   ]
  },
  {
   "cell_type": "markdown",
   "metadata": {},
   "source": [
    "### get_sw_version() - Get software version\n",
    "      Get the version of the RosBot software."
   ]
  },
  {
   "cell_type": "code",
   "execution_count": 2,
   "metadata": {
    "scrolled": false
   },
   "outputs": [
    {
     "data": {
      "text/plain": [
       "b'M0 RosBot V1.4'"
      ]
     },
     "execution_count": 2,
     "metadata": {},
     "output_type": "execute_result"
    }
   ],
   "source": [
    "rb.get_sw_version()"
   ]
  },
  {
   "cell_type": "markdown",
   "metadata": {},
   "source": [
    "### ping(index, pwm) - Ping RosBot\n",
    "      Ping the connection to the RosBot board."
   ]
  },
  {
   "cell_type": "code",
   "execution_count": null,
   "metadata": {
    "scrolled": true
   },
   "outputs": [],
   "source": [
    "rb.ping()"
   ]
  },
  {
   "cell_type": "markdown",
   "metadata": {},
   "source": [
    "### start_motor(index, pwm) - Run Motor\n",
    "      Run Motor at index with motor speet of PWM: run_motor(M1, 128) [motor index= M1, M2, M3, M4]"
   ]
  },
  {
   "cell_type": "code",
   "execution_count": null,
   "metadata": {
    "scrolled": true
   },
   "outputs": [],
   "source": [
    "rb.start_motor('M1', 128)"
   ]
  },
  {
   "cell_type": "markdown",
   "metadata": {},
   "source": [
    "### stop_motor(index) - Stop Motor\n",
    "      Stop Motor at index: stop_motor(M1) [motor index= M1, M2, M3, M4]"
   ]
  },
  {
   "cell_type": "code",
   "execution_count": null,
   "metadata": {
    "scrolled": true
   },
   "outputs": [],
   "source": [
    "rb.stop_motor()"
   ]
  },
  {
   "cell_type": "markdown",
   "metadata": {},
   "source": [
    "### set_pin_mode(pin, mode) - Set Pin Mode \n",
    "      Pin number to set, mode to set input or output: set_pin_mode(1, 'input')"
   ]
  },
  {
   "cell_type": "raw",
   "metadata": {},
   "source": [
    "rb.set_pin_mode(16, 'input')"
   ]
  },
  {
   "cell_type": "markdown",
   "metadata": {},
   "source": [
    "### read_digital(pin) - Digital read \n",
    "      Pin number to read ouput high or low: get_digital_read(16)"
   ]
  },
  {
   "cell_type": "code",
   "execution_count": null,
   "metadata": {
    "scrolled": false
   },
   "outputs": [],
   "source": [
    "rb.read_digital_pin(16)"
   ]
  },
  {
   "cell_type": "markdown",
   "metadata": {},
   "source": [
    "### write_digital(pin, level) - Digital write \n",
    "      Pin number to set mode high or low: set_digital_write(16, 'high') "
   ]
  },
  {
   "cell_type": "code",
   "execution_count": null,
   "metadata": {
    "scrolled": false
   },
   "outputs": [],
   "source": [
    "rb.write_digital_pin(16, 'low')"
   ]
  },
  {
   "cell_type": "code",
   "execution_count": null,
   "metadata": {},
   "outputs": [],
   "source": [
    "rb.write_digital_pin(16, 'high')"
   ]
  },
  {
   "cell_type": "markdown",
   "metadata": {},
   "source": [
    "### read_analog(pin) - Analog read \n",
    "      Pin number to read: get_analog_read(11)\n",
    "      \n",
    "      Note: only work on < 14 "
   ]
  },
  {
   "cell_type": "code",
   "execution_count": null,
   "metadata": {},
   "outputs": [],
   "source": [
    "rb.read_analog_pin(11)"
   ]
  },
  {
   "cell_type": "markdown",
   "metadata": {},
   "source": [
    "### write_analog(pin, level) - Analog write \n",
    "      Pin number to set value 0 to 256: set_analog_write(16, 128)\n",
    "      \n",
    "      Note: only work on 3,5,6,9,10,11"
   ]
  },
  {
   "cell_type": "code",
   "execution_count": null,
   "metadata": {},
   "outputs": [],
   "source": [
    "rb.write_analog_pin(11, 128)"
   ]
  },
  {
   "cell_type": "markdown",
   "metadata": {},
   "source": [
    "### set_servo(index, degree, speed, wait) - Set servo\n",
    "    index (channel) to set degree value 0 to 180 at speed of 0 to 255: set_servo(1, 90, 0)\n",
    "\n",
    "    Note: only channels 0-9"
   ]
  },
  {
   "cell_type": "code",
   "execution_count": null,
   "metadata": {
    "scrolled": false
   },
   "outputs": [],
   "source": [
    "from time import sleep\n",
    "#rb.set_servo(1, 90, 0, 1)\n",
    "#sleep(.5)\n",
    "#rb.set_servo(1, 0, 0, 1)\n",
    "#sleep(.5)\n",
    "rb.set_servo(1, 180, 0, 1)\n",
    "#sleep(.5)\n",
    "#rb.set_servo(1, 90, 0, 1)"
   ]
  },
  {
   "cell_type": "markdown",
   "metadata": {},
   "source": [
    "### do_reset() - Reset RosBot Board\n",
    "\n",
    "  Reset RosBot Board"
   ]
  },
  {
   "cell_type": "code",
   "execution_count": null,
   "metadata": {},
   "outputs": [],
   "source": [
    "rb.do_reset()"
   ]
  },
  {
   "cell_type": "markdown",
   "metadata": {},
   "source": [
    "## Subsystem Tests"
   ]
  },
  {
   "cell_type": "markdown",
   "metadata": {},
   "source": [
    "### Throttle ESC (Chanel0) Test"
   ]
  },
  {
   "cell_type": "markdown",
   "metadata": {},
   "source": [
    "Set throttle to stop"
   ]
  },
  {
   "cell_type": "code",
   "execution_count": 26,
   "metadata": {
    "scrolled": false
   },
   "outputs": [
    {
     "name": "stdout",
     "output_type": "stream",
     "text": [
      "set servo 0 84 0 0\n",
      "\n"
     ]
    }
   ],
   "source": [
    "rb.set_servo(0, 84, 0)"
   ]
  },
  {
   "cell_type": "markdown",
   "metadata": {},
   "source": [
    "Set forward half speed"
   ]
  },
  {
   "cell_type": "code",
   "execution_count": 3,
   "metadata": {
    "scrolled": false
   },
   "outputs": [
    {
     "name": "stdout",
     "output_type": "stream",
     "text": [
      "set servo 0 88 0 0\n",
      "\n"
     ]
    }
   ],
   "source": [
    "rb.set_servo(0, 88, 0)"
   ]
  },
  {
   "cell_type": "markdown",
   "metadata": {},
   "source": [
    "Set forward full speed\n"
   ]
  },
  {
   "cell_type": "code",
   "execution_count": null,
   "metadata": {},
   "outputs": [],
   "source": [
    "rb.set_servo(0, 180, 0)"
   ]
  },
  {
   "cell_type": "markdown",
   "metadata": {},
   "source": [
    "Set to stop"
   ]
  },
  {
   "cell_type": "code",
   "execution_count": null,
   "metadata": {},
   "outputs": [],
   "source": [
    "rb.set_servo(0, 90, 0)"
   ]
  },
  {
   "cell_type": "markdown",
   "metadata": {},
   "source": [
    "Set to half reverse NOT WORKING"
   ]
  },
  {
   "cell_type": "code",
   "execution_count": null,
   "metadata": {},
   "outputs": [],
   "source": [
    "rb.set_servo(0, 45, 0)"
   ]
  },
  {
   "cell_type": "markdown",
   "metadata": {},
   "source": [
    "Set to full reverse NOT WORKING"
   ]
  },
  {
   "cell_type": "code",
   "execution_count": null,
   "metadata": {},
   "outputs": [],
   "source": [
    "rb.set_servo(0, 0, 0)"
   ]
  },
  {
   "cell_type": "markdown",
   "metadata": {},
   "source": [
    "Set to stop"
   ]
  },
  {
   "cell_type": "code",
   "execution_count": null,
   "metadata": {},
   "outputs": [],
   "source": [
    "rb.set_servo(0, 90, 0)"
   ]
  },
  {
   "cell_type": "markdown",
   "metadata": {},
   "source": [
    "### Steering Servo (Chanel1) Test"
   ]
  },
  {
   "cell_type": "markdown",
   "metadata": {},
   "source": [
    "Center steering"
   ]
  },
  {
   "cell_type": "code",
   "execution_count": null,
   "metadata": {},
   "outputs": [],
   "source": [
    "rb.set_servo(1, 83, 0)"
   ]
  },
  {
   "cell_type": "markdown",
   "metadata": {},
   "source": [
    "set seering to the Left"
   ]
  },
  {
   "cell_type": "code",
   "execution_count": null,
   "metadata": {
    "scrolled": true
   },
   "outputs": [],
   "source": [
    "rb.set_servo(1,113, 0)"
   ]
  },
  {
   "cell_type": "markdown",
   "metadata": {},
   "source": [
    "set seering to the Right"
   ]
  },
  {
   "cell_type": "code",
   "execution_count": null,
   "metadata": {},
   "outputs": [],
   "source": [
    "rb.set_servo(1, 43, 0)"
   ]
  },
  {
   "cell_type": "markdown",
   "metadata": {},
   "source": [
    "Set Steering to center"
   ]
  },
  {
   "cell_type": "code",
   "execution_count": null,
   "metadata": {
    "scrolled": true
   },
   "outputs": [],
   "source": [
    "rb.set_servo(1, 83, 0)"
   ]
  },
  {
   "cell_type": "markdown",
   "metadata": {},
   "source": [
    "Run a sequence"
   ]
  },
  {
   "cell_type": "code",
   "execution_count": null,
   "metadata": {},
   "outputs": [],
   "source": [
    "from time import sleep\n",
    "#rb.set_servo(1, 90, 0, 1)\n",
    "#sleep(.5)\n",
    "rb.set_servo(1, 0, 0, 1)\n",
    "#sleep(.5)\n",
    "rb.set_servo(1, 180, 0, 1)\n",
    "#sleep(.5)\n",
    "#rb.set_servo(1, 90, 0, 1)"
   ]
  },
  {
   "cell_type": "markdown",
   "metadata": {},
   "source": [
    "#### Read RPM"
   ]
  },
  {
   "cell_type": "code",
   "execution_count": 25,
   "metadata": {
    "scrolled": true
   },
   "outputs": [
    {
     "data": {
      "text/plain": [
       "b'M300 3600.00'"
      ]
     },
     "execution_count": 25,
     "metadata": {},
     "output_type": "execute_result"
    }
   ],
   "source": [
    "rb.read_rpm()"
   ]
  },
  {
   "cell_type": "code",
   "execution_count": null,
   "metadata": {},
   "outputs": [],
   "source": []
  },
  {
   "cell_type": "code",
   "execution_count": null,
   "metadata": {},
   "outputs": [],
   "source": []
  }
 ],
 "metadata": {
  "kernelspec": {
   "display_name": "Python 3",
   "language": "python",
   "name": "python3"
  },
  "language_info": {
   "codemirror_mode": {
    "name": "ipython",
    "version": 3
   },
   "file_extension": ".py",
   "mimetype": "text/x-python",
   "name": "python",
   "nbconvert_exporter": "python",
   "pygments_lexer": "ipython3",
   "version": "3.7.3"
  }
 },
 "nbformat": 4,
 "nbformat_minor": 2
}
